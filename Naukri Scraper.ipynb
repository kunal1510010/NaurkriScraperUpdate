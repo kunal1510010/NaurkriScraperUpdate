{
 "cells": [
  {
   "cell_type": "code",
   "execution_count": 1,
   "metadata": {},
   "outputs": [],
   "source": [
    "from bs4 import BeautifulSoup\n",
    "from tqdm import tqdm"
   ]
  },
  {
   "cell_type": "code",
   "execution_count": 2,
   "metadata": {},
   "outputs": [],
   "source": [
    "import requests\n",
    "import random\n",
    "import pandas as pd"
   ]
  },
  {
   "cell_type": "code",
   "execution_count": 3,
   "metadata": {},
   "outputs": [],
   "source": [
    "user_agent_list = [\n",
    "   #Chrome\n",
    "    'Mozilla/5.0 (compatible; Googlebot/2.1; +http://www.google.com/bot.html)'\n",
    "]"
   ]
  },
  {
   "cell_type": "code",
   "execution_count": 4,
   "metadata": {},
   "outputs": [],
   "source": [
    "def getJob(active_link, user_agent):\n",
    "    headers = {'User-Agent':user_agent}\n",
    "    response = requests.get(active_link, headers=headers, allow_redirects=True)\n",
    "    soup = BeautifulSoup(response.text)\n",
    "    return soup.findAll('article', {'class':'jobTuple bgWhite br4 mb-8'})\n",
    "    "
   ]
  },
  {
   "cell_type": "code",
   "execution_count": 5,
   "metadata": {},
   "outputs": [],
   "source": [
    "def getJobAttributes(Job):\n",
    "    title = Job.find('a', {'class':'title fw500 ellipsis'}).text\n",
    "    company = Job.find('a', {'class':'subTitle ellipsis fleft'}).text\n",
    "    experience = Job.find('span', {'class':'ellipsis fleft fs12 lh16'}).text\n",
    "    location = Job.find('li', {'class':'fleft grey-text br2 placeHolderLi location'}).find('span').text\n",
    "    pay = Job.find('li', {'class':'fleft grey-text br2 placeHolderLi salary'}).find('span').text\n",
    "    description_list = Job.find('ul', {'class':'tags has-description'})\n",
    "    des = description_list.findAll('li')\n",
    "    description = []\n",
    "    for i in des:\n",
    "        description.append(i.text)\n",
    "    jobDict = {'Title':title, 'Company': company, 'Experience': experience , 'Location': location, 'Pay': pay, 'Description': ' '.join(description)}\n",
    "    return jobDict"
   ]
  },
  {
   "cell_type": "code",
   "execution_count": 6,
   "metadata": {},
   "outputs": [],
   "source": [
    "link = 'https://www.naukri.com/business-analyst-jobs{}?k=business%20analyst'\n",
    "link_list = [\n",
    "    'https://www.naukri.com/business-analyst-jobs?k=business%20analyst',\n",
    "            ]\n",
    "for i in range(2,412):\n",
    "    link_list.append(link.format(i))\n",
    "\n",
    "jobList = []"
   ]
  },
  {
   "cell_type": "code",
   "execution_count": 7,
   "metadata": {},
   "outputs": [
    {
     "name": "stderr",
     "output_type": "stream",
     "text": [
      "Business Analytics: 100%|█████████▉| 411/413 [22:03<00:06,  3.14s/it]"
     ]
    },
    {
     "ename": "IndexError",
     "evalue": "list index out of range",
     "output_type": "error",
     "traceback": [
      "\u001b[1;31m---------------------------------------------------------------------------\u001b[0m",
      "\u001b[1;31mIndexError\u001b[0m                                Traceback (most recent call last)",
      "\u001b[1;32m<ipython-input-7-a4b1374a3778>\u001b[0m in \u001b[0;36m<module>\u001b[1;34m\u001b[0m\n\u001b[0;32m      1\u001b[0m \u001b[1;32mfor\u001b[0m \u001b[0mi\u001b[0m \u001b[1;32min\u001b[0m \u001b[0mtqdm\u001b[0m\u001b[1;33m(\u001b[0m\u001b[0mrange\u001b[0m\u001b[1;33m(\u001b[0m\u001b[1;36m0\u001b[0m\u001b[1;33m,\u001b[0m\u001b[1;36m413\u001b[0m\u001b[1;33m)\u001b[0m\u001b[1;33m,\u001b[0m\u001b[0mdesc\u001b[0m\u001b[1;33m=\u001b[0m\u001b[1;34m\"Business Analytics\"\u001b[0m\u001b[1;33m)\u001b[0m\u001b[1;33m:\u001b[0m\u001b[1;33m\u001b[0m\u001b[1;33m\u001b[0m\u001b[0m\n\u001b[1;32m----> 2\u001b[1;33m     \u001b[0mlinks\u001b[0m \u001b[1;33m=\u001b[0m \u001b[0mlink_list\u001b[0m\u001b[1;33m[\u001b[0m\u001b[0mi\u001b[0m\u001b[1;33m]\u001b[0m\u001b[1;33m\u001b[0m\u001b[1;33m\u001b[0m\u001b[0m\n\u001b[0m\u001b[0;32m      3\u001b[0m     \u001b[0mpageData\u001b[0m \u001b[1;33m=\u001b[0m \u001b[0mgetJob\u001b[0m\u001b[1;33m(\u001b[0m\u001b[0mlinks\u001b[0m\u001b[1;33m,\u001b[0m \u001b[1;34m'Mozilla/5.0 (compatible; Googlebot/2.1; +http://www.google.com/bot.html)'\u001b[0m\u001b[1;33m)\u001b[0m\u001b[1;33m\u001b[0m\u001b[1;33m\u001b[0m\u001b[0m\n\u001b[0;32m      4\u001b[0m \u001b[1;33m\u001b[0m\u001b[0m\n\u001b[0;32m      5\u001b[0m     \u001b[1;32mfor\u001b[0m \u001b[0mjobs\u001b[0m \u001b[1;32min\u001b[0m \u001b[0mpageData\u001b[0m\u001b[1;33m:\u001b[0m\u001b[1;33m\u001b[0m\u001b[1;33m\u001b[0m\u001b[0m\n",
      "\u001b[1;31mIndexError\u001b[0m: list index out of range"
     ]
    }
   ],
   "source": [
    "for i in tqdm(range(0,413),desc=\"Business Analytics\"):\n",
    "    links = link_list[i]\n",
    "    pageData = getJob(links, 'Mozilla/5.0 (compatible; Googlebot/2.1; +http://www.google.com/bot.html)')\n",
    "    \n",
    "    for jobs in pageData:\n",
    "        jobList.append(getJobAttributes(jobs))"
   ]
  },
  {
   "cell_type": "code",
   "execution_count": 11,
   "metadata": {},
   "outputs": [],
   "source": [
    "data = pd.DataFrame(data= jobList, columns=['Title', 'Company', 'Experience', 'Location', 'Pay', 'Description'])"
   ]
  },
  {
   "cell_type": "code",
   "execution_count": 12,
   "metadata": {},
   "outputs": [
    {
     "data": {
      "text/html": [
       "<div>\n",
       "<style scoped>\n",
       "    .dataframe tbody tr th:only-of-type {\n",
       "        vertical-align: middle;\n",
       "    }\n",
       "\n",
       "    .dataframe tbody tr th {\n",
       "        vertical-align: top;\n",
       "    }\n",
       "\n",
       "    .dataframe thead th {\n",
       "        text-align: right;\n",
       "    }\n",
       "</style>\n",
       "<table border=\"1\" class=\"dataframe\">\n",
       "  <thead>\n",
       "    <tr style=\"text-align: right;\">\n",
       "      <th></th>\n",
       "      <th>Title</th>\n",
       "      <th>Company</th>\n",
       "      <th>Experience</th>\n",
       "      <th>Location</th>\n",
       "      <th>Pay</th>\n",
       "      <th>Description</th>\n",
       "    </tr>\n",
       "  </thead>\n",
       "  <tbody>\n",
       "    <tr>\n",
       "      <td>0</td>\n",
       "      <td>Senior Business Analyst (elearning exp is Mand...</td>\n",
       "      <td>Hurix Systems Private Limited</td>\n",
       "      <td>8-13 Yrs</td>\n",
       "      <td>Pune, Mumbai</td>\n",
       "      <td>Not disclosed</td>\n",
       "      <td>requirement gathering rfi proposal writing Bus...</td>\n",
       "    </tr>\n",
       "    <tr>\n",
       "      <td>1</td>\n",
       "      <td>Urgent Opening For Business analyst ( businees...</td>\n",
       "      <td>Focus Management Consultants Pvt Ltd.</td>\n",
       "      <td>0-3 Yrs</td>\n",
       "      <td>Pune, Mumbai</td>\n",
       "      <td>Not disclosed</td>\n",
       "      <td>international sales inside sales international...</td>\n",
       "    </tr>\n",
       "    <tr>\n",
       "      <td>2</td>\n",
       "      <td>Senior Business Analyst</td>\n",
       "      <td>Standard Chartered Bank Ltd</td>\n",
       "      <td>2-6 Yrs</td>\n",
       "      <td>Bengaluru</td>\n",
       "      <td>Not disclosed</td>\n",
       "      <td>Computer science Business process remediation ...</td>\n",
       "    </tr>\n",
       "    <tr>\n",
       "      <td>3</td>\n",
       "      <td>Business Analyst (telecom SME)</td>\n",
       "      <td>Vodafone India Services Pvt.Ltd</td>\n",
       "      <td>5-10 Yrs</td>\n",
       "      <td>Pune</td>\n",
       "      <td>Not disclosed</td>\n",
       "      <td>Product Strategy Agile Methodology Business Co...</td>\n",
       "    </tr>\n",
       "    <tr>\n",
       "      <td>4</td>\n",
       "      <td>Sr.Business Analyst</td>\n",
       "      <td>Valence Health</td>\n",
       "      <td>2-4 Yrs</td>\n",
       "      <td>Pune</td>\n",
       "      <td>Not disclosed</td>\n",
       "      <td>Statistical analysis Business Analyst Business...</td>\n",
       "    </tr>\n",
       "    <tr>\n",
       "      <td>...</td>\n",
       "      <td>...</td>\n",
       "      <td>...</td>\n",
       "      <td>...</td>\n",
       "      <td>...</td>\n",
       "      <td>...</td>\n",
       "      <td>...</td>\n",
       "    </tr>\n",
       "    <tr>\n",
       "      <td>8215</td>\n",
       "      <td>Associate Product Manager / Business Analyst</td>\n",
       "      <td>milestone internet marketing pvt ltd</td>\n",
       "      <td>7-10 Yrs</td>\n",
       "      <td>Ahmedabad, Bengaluru</td>\n",
       "      <td>Not disclosed</td>\n",
       "      <td>Computer science Hospitality Coding Javascript...</td>\n",
       "    </tr>\n",
       "    <tr>\n",
       "      <td>8216</td>\n",
       "      <td>Finance Business Analyst | Sales Compensation|...</td>\n",
       "      <td>Varite India Pvt. Ltd.</td>\n",
       "      <td>4-9 Yrs</td>\n",
       "      <td>Bengaluru</td>\n",
       "      <td>Not disclosed</td>\n",
       "      <td>User Acceptance Testing Accounting Banking Sys...</td>\n",
       "    </tr>\n",
       "    <tr>\n",
       "      <td>8217</td>\n",
       "      <td>Senior Business Analyst (south Region)</td>\n",
       "      <td>PPN Solutions Pvt Ltd.</td>\n",
       "      <td>5-10 Yrs</td>\n",
       "      <td>Chennai, Bengaluru, Hyderabad</td>\n",
       "      <td>Not disclosed</td>\n",
       "      <td>Senior Business Analyst business analysis</td>\n",
       "    </tr>\n",
       "    <tr>\n",
       "      <td>8218</td>\n",
       "      <td>Business Analyst Requirement with Optimize IT ...</td>\n",
       "      <td>Optimize IT Systems Private Limited</td>\n",
       "      <td>5-10 Yrs</td>\n",
       "      <td>Kolkata</td>\n",
       "      <td>Not disclosed</td>\n",
       "      <td>process documentation business analysis scrum ...</td>\n",
       "    </tr>\n",
       "    <tr>\n",
       "      <td>8219</td>\n",
       "      <td>Business Analyst</td>\n",
       "      <td>Aezion Technologies Pvt Ltd</td>\n",
       "      <td>2-5 Yrs</td>\n",
       "      <td>Bengaluru</td>\n",
       "      <td>Not disclosed</td>\n",
       "      <td>System Development User Documentation Thinking...</td>\n",
       "    </tr>\n",
       "  </tbody>\n",
       "</table>\n",
       "<p>8220 rows × 6 columns</p>\n",
       "</div>"
      ],
      "text/plain": [
       "                                                  Title  \\\n",
       "0     Senior Business Analyst (elearning exp is Mand...   \n",
       "1     Urgent Opening For Business analyst ( businees...   \n",
       "2                               Senior Business Analyst   \n",
       "3                        Business Analyst (telecom SME)   \n",
       "4                                   Sr.Business Analyst   \n",
       "...                                                 ...   \n",
       "8215       Associate Product Manager / Business Analyst   \n",
       "8216  Finance Business Analyst | Sales Compensation|...   \n",
       "8217             Senior Business Analyst (south Region)   \n",
       "8218  Business Analyst Requirement with Optimize IT ...   \n",
       "8219                                   Business Analyst   \n",
       "\n",
       "                                    Company Experience  \\\n",
       "0             Hurix Systems Private Limited   8-13 Yrs   \n",
       "1     Focus Management Consultants Pvt Ltd.    0-3 Yrs   \n",
       "2               Standard Chartered Bank Ltd    2-6 Yrs   \n",
       "3           Vodafone India Services Pvt.Ltd   5-10 Yrs   \n",
       "4                            Valence Health    2-4 Yrs   \n",
       "...                                     ...        ...   \n",
       "8215   milestone internet marketing pvt ltd   7-10 Yrs   \n",
       "8216                 Varite India Pvt. Ltd.    4-9 Yrs   \n",
       "8217                 PPN Solutions Pvt Ltd.   5-10 Yrs   \n",
       "8218    Optimize IT Systems Private Limited   5-10 Yrs   \n",
       "8219            Aezion Technologies Pvt Ltd    2-5 Yrs   \n",
       "\n",
       "                           Location            Pay  \\\n",
       "0                      Pune, Mumbai  Not disclosed   \n",
       "1                      Pune, Mumbai  Not disclosed   \n",
       "2                         Bengaluru  Not disclosed   \n",
       "3                              Pune  Not disclosed   \n",
       "4                              Pune  Not disclosed   \n",
       "...                             ...            ...   \n",
       "8215           Ahmedabad, Bengaluru  Not disclosed   \n",
       "8216                      Bengaluru  Not disclosed   \n",
       "8217  Chennai, Bengaluru, Hyderabad  Not disclosed   \n",
       "8218                        Kolkata  Not disclosed   \n",
       "8219                      Bengaluru  Not disclosed   \n",
       "\n",
       "                                            Description  \n",
       "0     requirement gathering rfi proposal writing Bus...  \n",
       "1     international sales inside sales international...  \n",
       "2     Computer science Business process remediation ...  \n",
       "3     Product Strategy Agile Methodology Business Co...  \n",
       "4     Statistical analysis Business Analyst Business...  \n",
       "...                                                 ...  \n",
       "8215  Computer science Hospitality Coding Javascript...  \n",
       "8216  User Acceptance Testing Accounting Banking Sys...  \n",
       "8217          Senior Business Analyst business analysis  \n",
       "8218  process documentation business analysis scrum ...  \n",
       "8219  System Development User Documentation Thinking...  \n",
       "\n",
       "[8220 rows x 6 columns]"
      ]
     },
     "execution_count": 12,
     "metadata": {},
     "output_type": "execute_result"
    }
   ],
   "source": [
    "data"
   ]
  },
  {
   "cell_type": "code",
   "execution_count": 13,
   "metadata": {},
   "outputs": [],
   "source": [
    "data.to_csv('Business Analyst.csv')"
   ]
  },
  {
   "cell_type": "code",
   "execution_count": null,
   "metadata": {},
   "outputs": [],
   "source": []
  }
 ],
 "metadata": {
  "kernelspec": {
   "display_name": "Python 3",
   "language": "python",
   "name": "python3"
  },
  "language_info": {
   "codemirror_mode": {
    "name": "ipython",
    "version": 3
   },
   "file_extension": ".py",
   "mimetype": "text/x-python",
   "name": "python",
   "nbconvert_exporter": "python",
   "pygments_lexer": "ipython3",
   "version": "3.7.4"
  }
 },
 "nbformat": 4,
 "nbformat_minor": 2
}
